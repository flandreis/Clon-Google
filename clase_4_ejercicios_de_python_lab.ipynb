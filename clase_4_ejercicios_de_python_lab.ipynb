{
  "nbformat": 4,
  "nbformat_minor": 0,
  "metadata": {
    "colab": {
      "provenance": [],
      "toc_visible": true,
      "include_colab_link": true
    },
    "kernelspec": {
      "name": "python3",
      "display_name": "Python 3"
    },
    "language_info": {
      "name": "python"
    }
  },
  "cells": [
    {
      "cell_type": "markdown",
      "metadata": {
        "id": "view-in-github",
        "colab_type": "text"
      },
      "source": [
        "<a href=\"https://colab.research.google.com/github/flandreis/Clon-Google/blob/main/clase_4_ejercicios_de_python_lab.ipynb\" target=\"_parent\"><img src=\"https://colab.research.google.com/assets/colab-badge.svg\" alt=\"Open In Colab\"/></a>"
      ]
    },
    {
      "cell_type": "markdown",
      "source": [
        "# Ejercios en Python"
      ],
      "metadata": {
        "id": "V2oZc1We8LB3"
      }
    },
    {
      "cell_type": "markdown",
      "source": [
        "### Suma de strings\n",
        "Imprime el mensaje **Hola mundo!!!**\n",
        "\n",
        "Utiliza las variables para sumar tres cadenas de caracteres y observa el resultado.\n"
      ],
      "metadata": {
        "id": "ChHU_TA7OmOJ"
      }
    },
    {
      "cell_type": "code",
      "source": [
        "print(\"Hola\" + \" mundo\"+\"!!!\")"
      ],
      "metadata": {
        "colab": {
          "base_uri": "https://localhost:8080/"
        },
        "id": "-4aJy0vdEc6z",
        "outputId": "43488b6e-174c-41ab-f9fb-f835101b88a2"
      },
      "execution_count": 52,
      "outputs": [
        {
          "output_type": "stream",
          "name": "stdout",
          "text": [
            "Hola mundo!!!\n"
          ]
        }
      ]
    },
    {
      "cell_type": "markdown",
      "source": [
        "### Suma de listas\n",
        "Crea una lista con 3 elementos, ejemplo **super**: tortillas, azúcar, café. Crea una segunda lista con 2 elementos, ejemplo **fruta**: uva, pera. Agrega una nueva variable llamada **sumastr** con la suma las dos listas e implimelo.\n",
        "\n",
        "Imprime los tres primeros elementos de la lista *sumastr*.\n",
        "\n",
        "Imprime el último elemento de la lista *sumastr*."
      ],
      "metadata": {
        "id": "t4eUTFDJSx2e"
      }
    },
    {
      "cell_type": "code",
      "source": [
        "super = [\"tortillas\", \"azúcar\", \"café\"]\n",
        "fruta = [\"uva\", \"pera\"]\n",
        "sumastr = super + fruta\n",
        "print(sumastr)\n",
        "print(sumastr[0:3])\n",
        "print(sumastr[-1])"
      ],
      "metadata": {
        "colab": {
          "base_uri": "https://localhost:8080/"
        },
        "id": "kWbkUQ_ZFEXL",
        "outputId": "da47ada9-31ba-45af-f4bf-d91e7a79a088"
      },
      "execution_count": 53,
      "outputs": [
        {
          "output_type": "stream",
          "name": "stdout",
          "text": [
            "['tortillas', 'azúcar', 'café', 'uva', 'pera']\n",
            "['tortillas', 'azúcar', 'café']\n",
            "pera\n"
          ]
        }
      ]
    },
    {
      "cell_type": "markdown",
      "source": [
        "### Promedio\n",
        "Escribe un programa para ingresar 3 números enteros y cálcular el promedio.\n",
        "\n",
        "Utiliza la funcion **input** para ingresar los valores."
      ],
      "metadata": {
        "id": "XtOGk8lozJcf"
      }
    },
    {
      "cell_type": "code",
      "source": [
        "P1 = int(input(\"Ingrese Parcial 1: \"))\n",
        "P2 = int(input(\"Ingrese Parcial 2: \"))\n",
        "P3 = int(input(\"Ingrese Parcial 3: \"))\n",
        "Promedio = (P1 + P2 +P3)/3\n",
        "print(Promedio)"
      ],
      "metadata": {
        "colab": {
          "base_uri": "https://localhost:8080/"
        },
        "id": "1-LH0AILGmCm",
        "outputId": "2c603df4-d07b-45d0-cd28-9de55da557c1"
      },
      "execution_count": 56,
      "outputs": [
        {
          "output_type": "stream",
          "name": "stdout",
          "text": [
            "Ingrese Parcial 1: 98\n",
            "Ingrese Parcial 2: 100\n",
            "Ingrese Parcial 3: 100\n",
            "99.33333333333333\n"
          ]
        }
      ]
    },
    {
      "cell_type": "markdown",
      "source": [
        "### Calculadora de Áreas\n",
        "Escribe un programa que calcule el área y el perímetro de un rectángulo. El programa debe solicitar al usuario la base y la altura, y luego mostrar el área y el perímetro.\n",
        "\n",
        "Utiliza los tipos de datos numéricos y operaciones aritméticas."
      ],
      "metadata": {
        "id": "N3IXAYlL8M8c"
      }
    },
    {
      "cell_type": "code",
      "source": [
        "B = int(input(\"Ingrese valor de base: \"))\n",
        "h = int(input(\"Ingrese valor de la altura: \"))\n",
        "a = B * h\n",
        "p =2 (B *h)\n",
        "print(\"área de rectángulo= \" + a)\n",
        "print(\"perímetro de rectángulo= \" + p)"
      ],
      "metadata": {
        "colab": {
          "base_uri": "https://localhost:8080/",
          "height": 406
        },
        "id": "Vr2qhbeiHtVk",
        "outputId": "a8908b77-c556-494d-a1bd-42833e48a2d1"
      },
      "execution_count": 58,
      "outputs": [
        {
          "output_type": "stream",
          "name": "stderr",
          "text": [
            "<>:4: SyntaxWarning: 'int' object is not callable; perhaps you missed a comma?\n",
            "<>:4: SyntaxWarning: 'int' object is not callable; perhaps you missed a comma?\n"
          ]
        },
        {
          "output_type": "error",
          "ename": "KeyboardInterrupt",
          "evalue": "Interrupted by user",
          "traceback": [
            "\u001b[0;31m---------------------------------------------------------------------------\u001b[0m",
            "\u001b[0;31mKeyboardInterrupt\u001b[0m                         Traceback (most recent call last)",
            "\u001b[0;32m<ipython-input-58-44d8d6851101>\u001b[0m in \u001b[0;36m<cell line: 1>\u001b[0;34m()\u001b[0m\n\u001b[0;32m----> 1\u001b[0;31m \u001b[0mB\u001b[0m \u001b[0;34m=\u001b[0m \u001b[0mint\u001b[0m\u001b[0;34m(\u001b[0m\u001b[0minput\u001b[0m\u001b[0;34m(\u001b[0m\u001b[0;34m\"Ingrese valor de base: \"\u001b[0m\u001b[0;34m)\u001b[0m\u001b[0;34m)\u001b[0m\u001b[0;34m\u001b[0m\u001b[0;34m\u001b[0m\u001b[0m\n\u001b[0m\u001b[1;32m      2\u001b[0m \u001b[0mh\u001b[0m \u001b[0;34m=\u001b[0m \u001b[0mint\u001b[0m\u001b[0;34m(\u001b[0m\u001b[0minput\u001b[0m\u001b[0;34m(\u001b[0m\u001b[0;34m\"Ingrese valor de la altura: \"\u001b[0m\u001b[0;34m)\u001b[0m\u001b[0;34m)\u001b[0m\u001b[0;34m\u001b[0m\u001b[0;34m\u001b[0m\u001b[0m\n\u001b[1;32m      3\u001b[0m \u001b[0ma\u001b[0m \u001b[0;34m=\u001b[0m \u001b[0mB\u001b[0m \u001b[0;34m*\u001b[0m \u001b[0mh\u001b[0m\u001b[0;34m\u001b[0m\u001b[0;34m\u001b[0m\u001b[0m\n\u001b[1;32m      4\u001b[0m \u001b[0mp\u001b[0m \u001b[0;34m=\u001b[0m\u001b[0;36m2\u001b[0m \u001b[0;34m(\u001b[0m\u001b[0mB\u001b[0m \u001b[0;34m*\u001b[0m\u001b[0mh\u001b[0m\u001b[0;34m)\u001b[0m\u001b[0;34m\u001b[0m\u001b[0;34m\u001b[0m\u001b[0m\n\u001b[1;32m      5\u001b[0m \u001b[0mprint\u001b[0m\u001b[0;34m(\u001b[0m\u001b[0;34m\"área de rectángulo= \"\u001b[0m \u001b[0;34m+\u001b[0m \u001b[0ma\u001b[0m\u001b[0;34m)\u001b[0m\u001b[0;34m\u001b[0m\u001b[0;34m\u001b[0m\u001b[0m\n",
            "\u001b[0;32m/usr/local/lib/python3.10/dist-packages/ipykernel/kernelbase.py\u001b[0m in \u001b[0;36mraw_input\u001b[0;34m(self, prompt)\u001b[0m\n\u001b[1;32m    849\u001b[0m                 \u001b[0;34m\"raw_input was called, but this frontend does not support input requests.\"\u001b[0m\u001b[0;34m\u001b[0m\u001b[0;34m\u001b[0m\u001b[0m\n\u001b[1;32m    850\u001b[0m             )\n\u001b[0;32m--> 851\u001b[0;31m         return self._input_request(str(prompt),\n\u001b[0m\u001b[1;32m    852\u001b[0m             \u001b[0mself\u001b[0m\u001b[0;34m.\u001b[0m\u001b[0m_parent_ident\u001b[0m\u001b[0;34m,\u001b[0m\u001b[0;34m\u001b[0m\u001b[0;34m\u001b[0m\u001b[0m\n\u001b[1;32m    853\u001b[0m             \u001b[0mself\u001b[0m\u001b[0;34m.\u001b[0m\u001b[0m_parent_header\u001b[0m\u001b[0;34m,\u001b[0m\u001b[0;34m\u001b[0m\u001b[0;34m\u001b[0m\u001b[0m\n",
            "\u001b[0;32m/usr/local/lib/python3.10/dist-packages/ipykernel/kernelbase.py\u001b[0m in \u001b[0;36m_input_request\u001b[0;34m(self, prompt, ident, parent, password)\u001b[0m\n\u001b[1;32m    893\u001b[0m             \u001b[0;32mexcept\u001b[0m \u001b[0mKeyboardInterrupt\u001b[0m\u001b[0;34m:\u001b[0m\u001b[0;34m\u001b[0m\u001b[0;34m\u001b[0m\u001b[0m\n\u001b[1;32m    894\u001b[0m                 \u001b[0;31m# re-raise KeyboardInterrupt, to truncate traceback\u001b[0m\u001b[0;34m\u001b[0m\u001b[0;34m\u001b[0m\u001b[0m\n\u001b[0;32m--> 895\u001b[0;31m                 \u001b[0;32mraise\u001b[0m \u001b[0mKeyboardInterrupt\u001b[0m\u001b[0;34m(\u001b[0m\u001b[0;34m\"Interrupted by user\"\u001b[0m\u001b[0;34m)\u001b[0m \u001b[0;32mfrom\u001b[0m \u001b[0;32mNone\u001b[0m\u001b[0;34m\u001b[0m\u001b[0;34m\u001b[0m\u001b[0m\n\u001b[0m\u001b[1;32m    896\u001b[0m             \u001b[0;32mexcept\u001b[0m \u001b[0mException\u001b[0m \u001b[0;32mas\u001b[0m \u001b[0me\u001b[0m\u001b[0;34m:\u001b[0m\u001b[0;34m\u001b[0m\u001b[0;34m\u001b[0m\u001b[0m\n\u001b[1;32m    897\u001b[0m                 \u001b[0mself\u001b[0m\u001b[0;34m.\u001b[0m\u001b[0mlog\u001b[0m\u001b[0;34m.\u001b[0m\u001b[0mwarning\u001b[0m\u001b[0;34m(\u001b[0m\u001b[0;34m\"Invalid Message:\"\u001b[0m\u001b[0;34m,\u001b[0m \u001b[0mexc_info\u001b[0m\u001b[0;34m=\u001b[0m\u001b[0;32mTrue\u001b[0m\u001b[0;34m)\u001b[0m\u001b[0;34m\u001b[0m\u001b[0;34m\u001b[0m\u001b[0m\n",
            "\u001b[0;31mKeyboardInterrupt\u001b[0m: Interrupted by user"
          ]
        }
      ]
    },
    {
      "cell_type": "markdown",
      "source": [
        "### Conversión de Temperaturas\n",
        "Escribe un programa que convierta una temperatura dada en grados Fahrenheit a grados Celsius.\n",
        "\n",
        "Utiliza la conversión de tipos de datos y operaciones aritméticas."
      ],
      "metadata": {
        "id": "7IAgVlh_8NG2"
      }
    },
    {
      "cell_type": "markdown",
      "source": [
        "### ¿Aprobado? Verifica si la calificación es aprobatoria\n",
        "Solicita que se ingrese la calificación de 0 a 100, si es mayor a 60 imprime el mensaje aprobado, de lo contrario imprime el mensaje reprobado.\n",
        "\n",
        "Utiliza las condicionales para realizar el ejercicio."
      ],
      "metadata": {
        "id": "lrilrpaPgTme"
      }
    },
    {
      "cell_type": "markdown",
      "source": [
        "### Calculadora de descuentos\n",
        "Escribe un programa que solicite el precio de un producto y la cantidad comprada. Si la cantidad es mayor a 10, aplica un descuento del 10%. Muestra el precio final.\n",
        "\n",
        "Practicar el uso de *if*, *else* y operadores aritméticos."
      ],
      "metadata": {
        "id": "YsEJbJuGEr3U"
      }
    },
    {
      "cell_type": "markdown",
      "source": [
        "### Calculadora\n",
        "Escribe un programa que solicite al usuario dos números y una operación (suma, resta, multiplicación, división). Luego, realiza la operación y muestra el resultado.\n",
        "\n",
        "Practica el uso de operadores aritméticos y expresiones condicionales."
      ],
      "metadata": {
        "id": "arcFa4BaCeRL"
      }
    },
    {
      "cell_type": "markdown",
      "source": [
        "### Par o impar\n",
        "Escribe un programa que solicite un número al usuario y determine si es par o impar.\n",
        "\n",
        "Usar operadores aritméticos y condicionales.\n",
        "\n",
        "Investiga el uso del operador de módulo **%**."
      ],
      "metadata": {
        "id": "oeaGbyVN-vYf"
      }
    },
    {
      "cell_type": "markdown",
      "source": [
        "### Promedio de notas\n",
        "Escribe un programa que solicite al usuario varias notas (almacenadas en una lista) y calcule el promedio.\n",
        "\n",
        "Practicar el uso de listas y operaciones básicas (sumar, calcular el promedio)."
      ],
      "metadata": {
        "id": "fhHmQwcFDADj"
      }
    },
    {
      "cell_type": "markdown",
      "source": [
        "### Par y su cubo\n",
        "Imprime los números pares y su valor al cubo en números del 0 al 20.\n",
        "\n",
        "Utiliza el bucle for y range."
      ],
      "metadata": {
        "id": "3k9tg-CHk2-D"
      }
    },
    {
      "cell_type": "markdown",
      "source": [
        "### Saludo\n",
        "Programa una función que arroje un saludo."
      ],
      "metadata": {
        "id": "i2vA4_II0bD3"
      }
    },
    {
      "cell_type": "markdown",
      "source": [
        "### Determinar si un número es primo\n",
        "Programa una función para imprimir los números primos del 1 al 1000."
      ],
      "metadata": {
        "id": "ZkarkmMWqMmm"
      }
    },
    {
      "cell_type": "markdown",
      "source": [
        "### Comprobar contraseña\n",
        "Programa una función que compruebe la contraseña, pide al usuario que ingrese la contraseña, imprime contraseña correcta o incorrecta según sea el caso."
      ],
      "metadata": {
        "id": "C9eyltQn10iD"
      }
    },
    {
      "cell_type": "code",
      "source": [],
      "metadata": {
        "id": "b7occdAi11GN"
      },
      "execution_count": null,
      "outputs": []
    }
  ]
}